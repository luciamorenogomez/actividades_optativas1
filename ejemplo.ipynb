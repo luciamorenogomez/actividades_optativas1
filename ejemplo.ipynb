{
 "cells": [
  {
   "cell_type": "markdown",
   "metadata": {},
   "source": [
    "# Mi primer Notebook!"
   ]
  },
  {
   "cell_type": "markdown",
   "metadata": {},
   "source": [
    "2do B Moreno Gomez, Lucia "
   ]
  },
  {
   "cell_type": "code",
   "execution_count": 1,
   "metadata": {},
   "outputs": [
    {
     "name": "stdout",
     "output_type": "stream",
     "text": [
      "hola mundo\n"
     ]
    }
   ],
   "source": [
    "print(\"hola mundo\")"
   ]
  },
  {
   "cell_type": "markdown",
   "metadata": {},
   "source": [
    "## Mis primeros descriptivos con Pandas"
   ]
  },
  {
   "cell_type": "markdown",
   "metadata": {},
   "source": [
    "Importa la biblioteca pandas con el alias pd para analizar y manipular datos estructurados.\n"
   ]
  },
  {
   "cell_type": "code",
   "execution_count": 9,
   "metadata": {},
   "outputs": [],
   "source": [
    "# Importa la biblioteca pandas y la asigna al alias 'pd' para manejar datos estructurados.\n",
    "import pandas as pd \n"
   ]
  },
  {
   "cell_type": "markdown",
   "metadata": {},
   "source": [
    "Crea un diccionario con edades y pesos, y lo convierte en un DataFrame de pandas llamado df."
   ]
  },
  {
   "cell_type": "code",
   "execution_count": 10,
   "metadata": {},
   "outputs": [],
   "source": [
    "# Crea un diccionario con datos de edad y peso\n",
    "\n",
    "datos = {\n",
    "    'edad': [8,9,10,11,12],\n",
    "    'peso': [30, 32, 35, 37, 40]\n",
    "}\n",
    "#luego lo convierte en un DataFrame de pandas para análisis de datos\n",
    "df = pd.DataFrame(datos)"
   ]
  },
  {
   "cell_type": "markdown",
   "metadata": {},
   "source": [
    "Calcula la media y desviación estándar de edad y peso, y muestra los resultados en pantalla."
   ]
  },
  {
   "cell_type": "code",
   "execution_count": 11,
   "metadata": {},
   "outputs": [
    {
     "name": "stdout",
     "output_type": "stream",
     "text": [
      "Media de Edad: 10.0\n",
      "Desviacion Tipica de Edad: 1.5811388300841898\n",
      "Media de Peso: 34.8\n",
      "Desviacion Tipica de Peso: 3.9623225512317903\n"
     ]
    }
   ],
   "source": [
    "# Calcula la media y desviación estándar de la columna 'edad' del DataFrame.\n",
    "media_edad = df['edad'].mean()\n",
    "desviacion_tipica_edad = df['edad']. std()\n",
    "\n",
    "# Calcula la media y desviación estándar de la columna 'peso' del DataFrame.\n",
    "media_peso = df['peso']. mean()\n",
    "desviacion_tipica_peso = df['peso']. std()\n",
    "\n",
    "# Imprime los resultados de la media y desviación estándar de edad y peso.\n",
    "print(\"Media de Edad:\", media_edad)\n",
    "print(\"Desviacion Tipica de Edad:\", desviacion_tipica_edad)\n",
    "print(\"Media de Peso:\", media_peso)\n",
    "print(\"Desviacion Tipica de Peso:\", desviacion_tipica_peso)\n"
   ]
  }
 ],
 "metadata": {
  "kernelspec": {
   "display_name": "Python 3",
   "language": "python",
   "name": "python3"
  },
  "language_info": {
   "codemirror_mode": {
    "name": "ipython",
    "version": 3
   },
   "file_extension": ".py",
   "mimetype": "text/x-python",
   "name": "python",
   "nbconvert_exporter": "python",
   "pygments_lexer": "ipython3",
   "version": "3.11.9"
  }
 },
 "nbformat": 4,
 "nbformat_minor": 2
}
